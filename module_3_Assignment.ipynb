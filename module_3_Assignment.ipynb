{
  "nbformat": 4,
  "nbformat_minor": 0,
  "metadata": {
    "colab": {
      "provenance": []
    },
    "kernelspec": {
      "name": "python3",
      "display_name": "Python 3"
    },
    "language_info": {
      "name": "python"
    }
  },
  "cells": [
    {
      "cell_type": "code",
      "execution_count": 6,
      "metadata": {
        "colab": {
          "base_uri": "https://localhost:8080/"
        },
        "id": "nouW_3S2zlju",
        "outputId": "a5dfa52b-e0a7-4655-b457-1b7059e4c415"
      },
      "outputs": [
        {
          "output_type": "stream",
          "name": "stdout",
          "text": [
            "hello world \n"
          ]
        }
      ],
      "source": [
        "# 1. Write a Python program to print \"Hello, World!y\n",
        "print(\"hello world \")"
      ]
    },
    {
      "cell_type": "markdown",
      "source": [
        "\n",
        "\n"
      ],
      "metadata": {
        "id": "g3BuKr4aJrAS"
      }
    },
    {
      "cell_type": "code",
      "source": [
        "# 2.Write a Python program that displays your name and age\n",
        "\n",
        "name = \"jagrati sen\"\n",
        "age = 20\n",
        "\n",
        "print(f\"My name is {name} and I am {age} years old.\")"
      ],
      "metadata": {
        "colab": {
          "base_uri": "https://localhost:8080/"
        },
        "id": "kj9ZiS2mJ0Lt",
        "outputId": "5604fa40-2de4-4bd2-fd9a-ac1b29e4c5b5"
      },
      "execution_count": 5,
      "outputs": [
        {
          "output_type": "stream",
          "name": "stdout",
          "text": [
            "My name is jagrati sen and I am 20 years old.\n"
          ]
        }
      ]
    },
    {
      "cell_type": "code",
      "source": [
        "# 3.Write code to print all the pre-defined keywords in Python using the keyword library\n",
        "import keyword\n",
        "\n",
        "print(keyword.kwlist)"
      ],
      "metadata": {
        "colab": {
          "base_uri": "https://localhost:8080/"
        },
        "id": "NVgw58lqOgFV",
        "outputId": "ee4cbe08-f399-4b08-b3ab-dd7924ed505d"
      },
      "execution_count": 7,
      "outputs": [
        {
          "output_type": "stream",
          "name": "stdout",
          "text": [
            "['False', 'None', 'True', 'and', 'as', 'assert', 'async', 'await', 'break', 'class', 'continue', 'def', 'del', 'elif', 'else', 'except', 'finally', 'for', 'from', 'global', 'if', 'import', 'in', 'is', 'lambda', 'nonlocal', 'not', 'or', 'pass', 'raise', 'return', 'try', 'while', 'with', 'yield']\n"
          ]
        }
      ]
    },
    {
      "cell_type": "code",
      "source": [
        "# 4.Write a program that checks if a given word is a Python keyword.\n",
        "import keyword\n",
        "\n",
        "def is_keyword(word):\n",
        "  \"\"\"Checks if a given word is a Python keyword.\n",
        "\n",
        "  Args:\n",
        "    word: The word to check.\n",
        "\n",
        "  Returns:\n",
        "    True if the word is a Python keyword, False otherwise.\n",
        "  \"\"\"\n",
        "  return keyword.iskeyword(word)\n",
        "\n",
        "# Get input from the user\n",
        "word = input(\"Enter a word: \")\n",
        "\n",
        "# Check if the word is a keyword\n",
        "if is_keyword(word):\n",
        "  print(f\"{word} is a Python keyword.\")\n",
        "else:\n",
        "  print(f\"{word} is not a Python keyword.\")"
      ],
      "metadata": {
        "colab": {
          "base_uri": "https://localhost:8080/"
        },
        "id": "KWQrS0ojQCsm",
        "outputId": "6b7571db-ad18-4b00-c1a5-ae54be287070"
      },
      "execution_count": 11,
      "outputs": [
        {
          "output_type": "stream",
          "name": "stdout",
          "text": [
            "Enter a word: true\n",
            "true is not a Python keyword.\n"
          ]
        }
      ]
    },
    {
      "cell_type": "code",
      "source": [
        "# 5. Create a list and tuple in Python, and demonstrate how attempting to change an element works differently\n",
        "#for each.\n",
        "# Create a list\n",
        "my_list = [1, 2, 3]\n",
        "\n",
        "# Create a tuple\n",
        "my_tuple = (1, 2, 3)\n",
        "\n",
        "# Attempt to change an element in the list\n",
        "my_list[0] = 6  # This works fine\n",
        "\n",
        "# Attempt to change an element in the tuple\n",
        "try:\n",
        "    my_tuple[0] = 4  # This will raise a TypeError\n",
        "except TypeError as e:\n",
        "    print(f\"Error: {e}\")  # Output: Error: 'tuple' object does not support item assignment\n",
        "\n",
        "print(\"List after modification:\", my_list)  # Output: List after modification: [4, 2, 3]\n",
        "print(\"Tuple remains unchanged:\", my_tuple)  # Output: Tuple remains unchanged: (1, 2, 3)"
      ],
      "metadata": {
        "colab": {
          "base_uri": "https://localhost:8080/"
        },
        "id": "lxHDzjptQYIc",
        "outputId": "301d07bb-10ef-4e02-c9ca-cbdf0b2a1921"
      },
      "execution_count": 13,
      "outputs": [
        {
          "output_type": "stream",
          "name": "stdout",
          "text": [
            "Error: 'tuple' object does not support item assignment\n",
            "List after modification: [6, 2, 3]\n",
            "Tuple remains unchanged: (1, 2, 3)\n"
          ]
        }
      ]
    },
    {
      "cell_type": "code",
      "source": [
        "# 6.Write a function to demonstrate the behavior of mutable and immutable arguments.\n",
        "def modify_arguments(a, b):\n",
        "    \"\"\"Demonstrates the behavior of mutable and immutable arguments.\n",
        "\n",
        "    Args:\n",
        "        a: An immutable argument (e.g., an integer).\n",
        "        b: A mutable argument (e.g., a list).\n",
        "    \"\"\"\n",
        "\n",
        "    a += 1  # Modifying the immutable argument\n",
        "    b.append(4)  # Modifying the mutable argument\n",
        "\n",
        "    print(\"Inside function:\")\n",
        "    print(\"a:\", a)\n",
        "    print(\"b:\", b)\n",
        "\n",
        "\n",
        "# Call the function with sample arguments\n",
        "num = 10\n",
        "my_list = [1, 2, 3]\n",
        "\n",
        "modify_arguments(num, my_list)\n",
        "\n",
        "print(\"Outside function:\")\n",
        "print(\"num:\", num)\n",
        "print(\"my_list:\", my_list)"
      ],
      "metadata": {
        "colab": {
          "base_uri": "https://localhost:8080/"
        },
        "id": "1knBz8x-RLPl",
        "outputId": "abcdff0a-a479-4b60-a59b-2c8ad19dee86"
      },
      "execution_count": 14,
      "outputs": [
        {
          "output_type": "stream",
          "name": "stdout",
          "text": [
            "Inside function:\n",
            "a: 11\n",
            "b: [1, 2, 3, 4]\n",
            "Outside function:\n",
            "num: 10\n",
            "my_list: [1, 2, 3, 4]\n"
          ]
        }
      ]
    },
    {
      "cell_type": "code",
      "source": [
        "# 7.Write a program that performs basic arithmetic operations on two user-input numbers.\n",
        "# Get input from the user\n",
        "num1 = float(input(\"Enter the first number: \"))\n",
        "num2 = float(input(\"Enter the second number: \"))\n",
        "\n",
        "# Perform arithmetic operations\n",
        "addition = num1 + num2\n",
        "subtraction = num1 - num2\n",
        "multiplication = num1 * num2\n",
        "division = num1 / num2\n",
        "\n",
        "# Print the results\n",
        "print(\"Addition:\", addition)\n",
        "print(\"Subtraction:\", subtraction)\n",
        "print(\"Multiplication:\", multiplication)\n",
        "print(\"Division:\", division)"
      ],
      "metadata": {
        "colab": {
          "base_uri": "https://localhost:8080/"
        },
        "id": "83qZs81VRo2f",
        "outputId": "5b27c82f-735c-4393-ea72-09c9ea093fe9"
      },
      "execution_count": 15,
      "outputs": [
        {
          "output_type": "stream",
          "name": "stdout",
          "text": [
            "Enter the first number: 1\n",
            "Enter the second number: 5\n",
            "Addition: 6.0\n",
            "Subtraction: -4.0\n",
            "Multiplication: 5.0\n",
            "Division: 0.2\n"
          ]
        }
      ]
    },
    {
      "cell_type": "code",
      "source": [
        "# 8. Write a program to demonstrate the use of logical operators.\n",
        "# Get input from the user\n",
        "age = int(input(\"Enter your age: \"))\n",
        "has_license = input(\"Do you have a driver's license? (yes/no): \")\n",
        "\n",
        "# Check if the person is eligible to drive\n",
        "if age >= 18 and has_license.lower() == \"yes\":\n",
        "    print(\"You are eligible to drive.\")\n",
        "else:\n",
        "    print(\"You are not eligible to drive.\")\n",
        "\n",
        "\n",
        "# Example with 'or' operator\n",
        "is_raining = input(\"Is it raining? (yes/no): \")\n",
        "have_umbrella = input(\"Do you have an umbrella? (yes/no): \")\n",
        "\n",
        "if is_raining.lower() == \"yes\" or have_umbrella.lower() == \"yes\":\n",
        "    print(\"You can go outside.\")  # You can go if it's raining and you have an umbrella, or if it's not raining.\n",
        "else:\n",
        "    print(\"Better stay inside.\")\n",
        "\n",
        "\n",
        "\n",
        "# Example with 'not' operator\n",
        "is_sunny = input(\"Is it sunny? (yes/no): \")\n",
        "\n",
        "if not is_sunny.lower() == \"yes\":\n",
        "    print(\"It's not sunny today.\")\n",
        "else:\n",
        "    print(\"It's sunny today!\")"
      ],
      "metadata": {
        "colab": {
          "base_uri": "https://localhost:8080/"
        },
        "id": "IkCHEWd_SEF8",
        "outputId": "787d760a-cacb-4729-9399-df2fb956522b"
      },
      "execution_count": 16,
      "outputs": [
        {
          "output_type": "stream",
          "name": "stdout",
          "text": [
            "Enter your age: 18\n",
            "Do you have a driver's license? (yes/no): no\n",
            "You are not eligible to drive.\n",
            "Is it raining? (yes/no): yes\n",
            "Do you have an umbrella? (yes/no): no\n",
            "You can go outside.\n",
            "Is it sunny? (yes/no): yes\n",
            "It's sunny today!\n"
          ]
        }
      ]
    },
    {
      "cell_type": "code",
      "source": [
        "# 9. Write a Python program to convert user input from string to integer, float, and boolean types.\n",
        "# Get user input\n",
        "user_input = input(\"Enter a value: \")\n",
        "\n",
        "# Conversion to integer\n",
        "try:\n",
        "    integer_value = int(user_input)\n",
        "    print(\"Integer:\", integer_value)\n",
        "except ValueError:\n",
        "    print(\"Invalid input for integer conversion.\")\n",
        "\n",
        "# Conversion to float\n",
        "try:\n",
        "    float_value = float(user_input)\n",
        "    print(\"Float:\", float_value)\n",
        "except ValueError:\n",
        "    print(\"Invalid input for float conversion.\")\n",
        "\n",
        "# Conversion to boolean\n",
        "if user_input.lower() in [\"true\", \"1\", \"t\", \"y\", \"yes\"]:\n",
        "    boolean_value = True\n",
        "elif user_input.lower() in [\"false\", \"0\", \"f\", \"n\", \"no\"]:\n",
        "    boolean_value = False\n",
        "else:\n",
        "    print(\"Invalid input for boolean conversion.\")\n",
        "    boolean_value = None  # or you can assign a default value like False\n",
        "\n",
        "if boolean_value is not None:\n",
        "    print(\"Boolean:\", boolean_value)\n",
        ""
      ],
      "metadata": {
        "colab": {
          "base_uri": "https://localhost:8080/"
        },
        "id": "eVMwVRC5S2zk",
        "outputId": "f4756252-8e3d-499d-c534-2a50067023d6"
      },
      "execution_count": 17,
      "outputs": [
        {
          "output_type": "stream",
          "name": "stdout",
          "text": [
            "Enter a value: 5\n",
            "Integer: 5\n",
            "Float: 5.0\n",
            "Invalid input for boolean conversion.\n"
          ]
        }
      ]
    },
    {
      "cell_type": "code",
      "source": [
        "# 10.Write code to demonstrate type casting with list elements.\n",
        "# Original list with mixed data types\n",
        "my_list = [1, '2', 3.0, '4.5', True]\n",
        "\n",
        "# Type casting to integers\n",
        "int_list = [int(x) for x in my_list if str(x).isdigit()]\n",
        "print(\"Integer List:\", int_list)  # Output: [1, 2, 3]\n",
        "\n",
        "\n",
        "# Type casting to floats\n",
        "float_list = [float(x) for x in my_list if isinstance(x,(int,float,str)) and str(x).replace('.', '', 1).isdigit()]\n",
        "print(\"Float List:\", float_list)  # Output: [1.0, 2.0, 3.0, 4.5]\n",
        "\n",
        "# Type casting to strings\n",
        "str_list = [str(x) for x in my_list]\n",
        "print(\"String List:\", str_list)  # Output: ['1', '2', '3.0', '4.5', 'True']\n",
        "\n",
        "# Type casting to booleans\n",
        "bool_list = [bool(x) for x in my_list]\n",
        "print(\"Boolean List:\", bool_list)  # Output: [True, True, True, True, True]"
      ],
      "metadata": {
        "colab": {
          "base_uri": "https://localhost:8080/"
        },
        "id": "V9XLks-sTWlr",
        "outputId": "cf3be778-599e-4238-8f2e-9aeb26b0f9cb"
      },
      "execution_count": 18,
      "outputs": [
        {
          "output_type": "stream",
          "name": "stdout",
          "text": [
            "Integer List: [1, 2]\n",
            "Float List: [1.0, 2.0, 3.0, 4.5]\n",
            "String List: ['1', '2', '3.0', '4.5', 'True']\n",
            "Boolean List: [True, True, True, True, True]\n"
          ]
        }
      ]
    },
    {
      "cell_type": "code",
      "source": [
        "# 11. Write a program that checks if a number is positive, negative, or zero\n",
        "# Get input from the user\n",
        "number = float(input(\"Enter a number: \"))\n",
        "\n",
        "# Check the number\n",
        "if number > 0:\n",
        "    print(\"The number is positive.\")\n",
        "elif number < 0:\n",
        "    print(\"The number is negative.\")\n",
        "else:\n",
        "    print(\"The number is zero.\")"
      ],
      "metadata": {
        "colab": {
          "base_uri": "https://localhost:8080/"
        },
        "id": "gg8JyuxHT06a",
        "outputId": "f8a5bd60-cbd9-4654-e7ea-d01280731ecb"
      },
      "execution_count": 19,
      "outputs": [
        {
          "output_type": "stream",
          "name": "stdout",
          "text": [
            "Enter a number: 3\n",
            "The number is positive.\n"
          ]
        }
      ]
    },
    {
      "cell_type": "code",
      "source": [
        "# 12. Write a for loop to print numbers from 1 to 10.\n",
        "for i in range(1, 11):\n",
        "    print(i)"
      ],
      "metadata": {
        "colab": {
          "base_uri": "https://localhost:8080/"
        },
        "id": "vMS3RhNRUM5R",
        "outputId": "c0dd4e7b-7121-494a-cf49-bee63345342e"
      },
      "execution_count": 20,
      "outputs": [
        {
          "output_type": "stream",
          "name": "stdout",
          "text": [
            "1\n",
            "2\n",
            "3\n",
            "4\n",
            "5\n",
            "6\n",
            "7\n",
            "8\n",
            "9\n",
            "10\n"
          ]
        }
      ]
    },
    {
      "cell_type": "code",
      "source": [
        "# 13.  Write a Python program to find the sum of all even numbers between 1 and 50.\n",
        "# Initialize the sum\n",
        "total_sum = 0\n",
        "\n",
        "# Iterate through numbers from 1 to 50\n",
        "for number in range(2, 51, 2):\n",
        "    total_sum += number\n",
        "\n",
        "# Print the sum\n",
        "print(\"The sum of all even numbers between 1 and 50 is:\", total_sum)"
      ],
      "metadata": {
        "colab": {
          "base_uri": "https://localhost:8080/"
        },
        "id": "rGZxBCUKUeza",
        "outputId": "ba5f1547-0c4b-4939-b13d-02e64477b2aa"
      },
      "execution_count": 21,
      "outputs": [
        {
          "output_type": "stream",
          "name": "stdout",
          "text": [
            "The sum of all even numbers between 1 and 50 is: 650\n"
          ]
        }
      ]
    },
    {
      "cell_type": "code",
      "source": [
        "# 14. . Write a program to reverse a string using a while loop\n",
        "def reverse_string(s):\n",
        "  \"\"\"Reverses a string using a while loop.\n",
        "\n",
        "  Args:\n",
        "    s: The string to reverse.\n",
        "\n",
        "  Returns:\n",
        "    The reversed string.\n",
        "  \"\"\"\n",
        "  reversed_string = \"\"\n",
        "  index = len(s) - 1\n",
        "\n",
        "  while index >= 0:\n",
        "    reversed_string += s[index]\n",
        "    index -= 1\n",
        "\n",
        "  return reversed_string\n",
        "\n",
        "# Get input from the user\n",
        "string = input(\"Enter a string: \")\n",
        "\n",
        "# Reverse the string\n",
        "reversed_string = reverse_string(string)\n",
        "\n",
        "# Print the reversed string\n",
        "print(\"Reversed string:\", reversed_string)"
      ],
      "metadata": {
        "colab": {
          "base_uri": "https://localhost:8080/"
        },
        "id": "6SrzXYLCU1Eh",
        "outputId": "b2986fae-cc12-4796-f351-6d1217df6400"
      },
      "execution_count": 22,
      "outputs": [
        {
          "output_type": "stream",
          "name": "stdout",
          "text": [
            "Enter a string: jagrati\n",
            "Reversed string: itargaj\n"
          ]
        }
      ]
    },
    {
      "cell_type": "code",
      "source": [
        "# 15.Write a Python program to calculate the factorial of a number provided by the user using a while loop\n",
        "# Get input from the user\n",
        "num = int(input(\"Enter a non-negative integer: \"))\n",
        "\n",
        "# Initialize factorial to 1\n",
        "factorial = 1\n",
        "\n",
        "# Calculate factorial using a while loop\n",
        "i = 1\n",
        "while i <= num:\n",
        "    factorial *= i\n",
        "    i += 1\n",
        "\n",
        "# Print the factorial\n",
        "print(\"The factorial of\", num, \"is\", factorial)"
      ],
      "metadata": {
        "colab": {
          "base_uri": "https://localhost:8080/"
        },
        "id": "WjN_cFv3VgcM",
        "outputId": "6c610e14-b7ed-4a9a-ee53-05b0af1cafc1"
      },
      "execution_count": 23,
      "outputs": [
        {
          "output_type": "stream",
          "name": "stdout",
          "text": [
            "Enter a non-negative integer: 2\n",
            "The factorial of 2 is 2\n"
          ]
        }
      ]
    }
  ]
}